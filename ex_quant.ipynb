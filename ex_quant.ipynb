{
 "cells": [
  {
   "cell_type": "markdown",
   "metadata": {},
   "source": [
    "<img src='https://pennstatelaw.psu.edu/sites/default/files/styles/content_header_image/public/M%20and%20A%20center%201.jpg?itok=nxlHzngRhttps://pennstatelaw.psu.edu/sites/default/files/styles/content_header_image/public/M%20and%20A%20center%201.jpg?itok=nxlHzngR' height=\"100%\" width=\"3500\">\n",
    "\n",
    "# Projeto Quant.dev\n",
    "\n",
    "Olá! Seja bem vindo ao projeto de Quant do FEA.dev!\n",
    "\n",
    "O que você irá fazer:\n",
    "\n",
    "  \"*Você é um sócio e analista quantitativo do nosso Fundo. Seu objetivo é apresentar sua estratégia de investimento e convencer os outros sócios a colocá-la no portfólio. Você tem boa parte do seu patrimônio pessoal investido nesse Fundo.*\"\n",
    "\n",
    "### Você decidiu implementar a seguinte estratégia:\n",
    "\n",
    "A sua hipótese é que as ações mais negociadas no mês, ou seja, de maior volume, irão bem no mês seguinte. A sua regra de investimento será comprar, todo final de mês, as 10 ações com o maior volume do indice IBX. Você tem um montante inicial de R$100.000 para investir.\n",
    "\n",
    "Comece extraindo os dados de preços e volume, tome cuidado que nem todas as fontes te dão essas informações. \n",
    "\n",
    "A composição do IBX a cada ano lhe foi dada no arquivo excel. O período de sua estratégia deve contemplar todo o período do mesmo arquivo.\n",
    "\n",
    "Depois que sua estratégia estiver rodando sem erros, faça uma **análise minuciosa** da estratégia (a maior parte da sua avaliação de desempenho se dará nessa parte). Para isso, use métricas diversas (retorno, volatilidade, drawdown, etc.) plotando e comparando-as. Também faça variações dessa estratégia (comprar as 5 maiores, 10 maiores, 15 maiores, etc) e veja qual é a melhor.\n",
    "\n",
    "Por fim, deixe mais do que claro se:\n",
    "\n",
    "1. Está confiante para indicar essa ideia para o portfólio. ou  \n",
    "2. Não chegou a um resultado satisfatório. ou  \n",
    "3. Acha que precisa de mais estudos para se sentir confiante.\n",
    "\n",
    "Obs: Não há problema se algumas ações derem erro na hora da extração, siga em frente. Mas se muitas estiverem dando erro, melhor revisar seu código...\n",
    "\n",
    "### Materiais de apoio:\n",
    "1. [Coursera: Introduction to Portfolio Construction and Analysis with Python (link)](https://www.coursera.org/programs/universidade-de-sao-paulo-br-on-coursera-mvxtw?currentTab=MY_COURSES&productId=qeyXSV_uEeiNIQqyU-T6bA&productType=course&showMiniModal=true) \n",
    "\n",
    "    - Semanas 1, 2 e 3\n",
    "\n",
    "2. [Livro: Quantitative Trading - Ernest Chan (link)](https://drive.google.com/drive/folders/1pHySMzZjpHyvVOWn6Ect7CsZXmThzyAO)\n",
    "\n",
    "    - Cap 1: Inteiro\n",
    "    - Cap 2: 17-31\n",
    "    - Cap 3: 36-69\n",
    "\n",
    "3. [Playlist de Finanças Quantitativas do FEA.dev (link)](https://www.youtube.com/playlist?list=PLiJqHBsOKi2cabSus1hgdSNAHeU0md6_D)"
   ]
  },
  {
   "cell_type": "markdown",
   "metadata": {},
   "source": [
    "As ações mais negociadas no mês terão melhor performance no mês seguinte. Comprar, todo final de mês, as 10 ações com o maior volume do indice IBX. Montante inicial R$100.000."
   ]
  },
  {
   "cell_type": "code",
   "execution_count": 1,
   "metadata": {},
   "outputs": [
    {
     "name": "stdout",
     "output_type": "stream",
     "text": [
      "[*********************100%***********************]  142 of 142 completed\n",
      "[*********************100%***********************]  142 of 142 completed\n"
     ]
    }
   ],
   "source": [
    "import pandas as pd\n",
    "import numpy as np\n",
    "import yfinance as yf\n",
    "from pandas_datareader import data as pdr\n",
    "import datetime\n",
    "\n",
    "yf.pdr_override() \n",
    "\n",
    "# Lendo a Composição mensal do IBX\n",
    "comp_ibx = pd.read_csv('composicao_ibx_mensal.csv')\n",
    "\n",
    "# Cada linha representa um mês. Preciso identificar\n",
    "# o ticker, por coluna, no site e depois localizar o preço e volume na data.\n",
    "\n",
    "# Atribuindo todas as ações à variável \"tickers\"\n",
    "tickers = comp_ibx.values[:, 1:].astype(str)\n",
    "\n",
    "# Criando um array com as ações únicas\n",
    "ticker_unico = np.unique(tickers)\n",
    "\n",
    "# Excluindo a ação 'nan' e transformando o array em lista\n",
    "ticker_unico = list(ticker_unico[:-1])\n",
    "\n",
    "for j, i in enumerate(ticker_unico):\n",
    "    i = i + \".SA\"\n",
    "    ticker_unico[j] = i\n",
    "\n",
    "delete = [\"FFTL4.SA\", \"ALLL3.SA\", \"ALSC3.SA\", \"CTIP3.SA\", \"ELPL3.SA\", \"CNFB4.SA\", \"MAGG3.SA\", \"ARTR3.SA\", \"TERI3.SA\", \"BISA3.SA\", \"SUZB5.SA\", \"NATU3.SA\", \"TNLP3.SA\", \"GETI4.SA\", \"TCSL4.SA\", \"TAMM4.SA\", \"PRML3.SA\", \"OGXP3.SA\", \"AEDU3.SA\", \"UGPA4.SA\", \"TNLP4.SA\", \"FIBR3.SA\", \"VVAR11.SA\", \"CRUZ3.SA\", \"TMAR5.SA\", \"PCAR4.SA\", \"RUMO3.SA\", \"VALE5.SA\", \"VIVO4.SA\", \"ELPL4.SA\", \"AMIL3.SA\", \"MPLU3.SA\", \"AMBV3.SA\"]\n",
    "\n",
    "for i in delete:\n",
    "    ticker_unico.remove(i)\n",
    "\n",
    "startD = '2010-11-01'\n",
    "endD = '2020-02-01'\n",
    "\n",
    "start_date = pd.to_datetime(startD)\n",
    "end_date = pd.to_datetime(endD)\n",
    "data = pdr.get_data_yahoo(ticker_unico, start=start_date, end=end_date)\n",
    "\n",
    "# usando resample para agrupar dados diários em dados mensais\n",
    "n = 1\n",
    "mon_data = pd.DataFrame(data[['Adj Close', 'Volume']].resample('BM').apply(lambda x: x[-1 - n]))\n",
    "\n",
    "end_of_months = mon_data.index.tolist()\n",
    "end_of_months[-1] = data.index[-1]\n",
    "mon_data.index = end_of_months\n",
    "\n",
    "mon_data.index = mon_data.index - datetime.timedelta(days=n)\n",
    "\n",
    "\n",
    "# baixando as inf. do Yahoo! Finance\n",
    "def download_data(ticker_unico):\n",
    "    return pdr.get_data_yahoo(ticker_unico, start=start_date, end=end_date)[['Adj Close', 'Volume']]\n",
    "\n",
    "\n",
    "if __name__ == '__main__':\n",
    "    data = download_data(ticker_unico)"
   ]
  },
  {
   "cell_type": "code",
   "execution_count": null,
   "metadata": {},
   "outputs": [],
   "source": [
    "# definindo Index mensal, ao invés de diário.\n",
    "mon_data.index = pd.to_datetime(mon_data.index, format='%Y-%m-%d').to_period(\"M\")"
   ]
  },
  {
   "cell_type": "code",
   "execution_count": null,
   "metadata": {},
   "outputs": [],
   "source": [
    "mon_data"
   ]
  },
  {
   "cell_type": "code",
   "execution_count": null,
   "metadata": {},
   "outputs": [],
   "source": [
    "returns_asset = mon_data['Adj Close'].pct_change()\n",
    "volume_df = mon_data['Volume']"
   ]
  },
  {
   "cell_type": "code",
   "execution_count": null,
   "metadata": {},
   "outputs": [],
   "source": [
    "import pandas_datareader.data as web"
   ]
  },
  {
   "cell_type": "code",
   "execution_count": null,
   "metadata": {},
   "outputs": [],
   "source": [
    "# DataFrame com dados do benchmarket brasileiro, para efeitos de comparação no futuro.\n",
    "\n",
    "# Baixando os dados e especificando index mensal\n",
    "ibov = web.get_data_yahoo('^BVSP',start = '2010-12-01', end = '2020-02-01', interval='1mo')[['Adj Close', 'Volume']]\n",
    "ibov.index = pd.to_datetime(ibov.index, format='%Y-%m-%d').to_period(\"M\")\n",
    "\n",
    "# Obtendo os retornos \n",
    "returns_ibov = ibov['Adj Close'].pct_change()\n",
    "ibov"
   ]
  },
  {
   "cell_type": "markdown",
   "metadata": {},
   "source": [
    "### Comprar, todo final de mês, as n ações com o maior volume do indice IBX. Você tem um montante inicial de R100.000 para investir."
   ]
  },
  {
   "cell_type": "code",
   "execution_count": null,
   "metadata": {},
   "outputs": [],
   "source": [
    "# Definindo a quantidade n de ações\n",
    "n = int(input(\"Digite o número de ações que irá compor sua carteira: \"))\n",
    "\n",
    "# criando um df vazio\n",
    "maxvolume_df = volume_df.set_index(volume_df.index)\n",
    "# Selecionando as n ações de maior volume em volume_df e alocando-as em index + 1 (momento da compra)\n",
    "maxvolume_df = pd.DataFrame(volume_df.columns.values[np.argsort(-volume_df.values, axis=1)[:, :n]], \n",
    "                  index=volume_df.index+1,\n",
    "                  columns = range(n)).reset_index()\n",
    "maxvolume_df.set_index('index', inplace = True)\n",
    "\n",
    "# Excluir a última linha, com data == 2020-01\n",
    "#maxvolume_df = maxvolume_df.drop(maxvolume_df.tail(1).index)"
   ]
  },
  {
   "cell_type": "code",
   "execution_count": null,
   "metadata": {},
   "outputs": [],
   "source": [
    "maxvolume_df"
   ]
  },
  {
   "cell_type": "markdown",
   "metadata": {},
   "source": [
    "# Análises"
   ]
  },
  {
   "cell_type": "code",
   "execution_count": null,
   "metadata": {},
   "outputs": [],
   "source": [
    "#TESTE\n",
    "#returns = pd.DataFrame(index=maxvolume_df.index, columns=maxvolume_df.columns)\n",
    "\n",
    "#for index, linha in maxvolume_df.iterrows():\n",
    "#    for index_item, valor_linha in linha.iteritems():\n",
    "#        returns.loc[index+1, index_item] = returns_asset.loc[index, [valor_linha]][0]\n",
    "    "
   ]
  },
  {
   "cell_type": "code",
   "execution_count": null,
   "metadata": {},
   "outputs": [],
   "source": [
    "# retornos em t+1\n",
    "returns = pd.DataFrame(index=maxvolume_df.index, columns=maxvolume_df.columns)\n",
    "\n",
    "for index, linha in maxvolume_df.iterrows():\n",
    "    for index_item, valor_linha in linha.iteritems():\n",
    "        if(str(index) < '2020-01' ):\n",
    "            returns.loc[index+1, index_item] = returns_asset.loc[index+1, [valor_linha]][0]\n",
    "\n",
    "returns = returns[:-1]\n",
    "\n",
    "returns"
   ]
  },
  {
   "cell_type": "code",
   "execution_count": null,
   "metadata": {},
   "outputs": [],
   "source": [
    "# A matriz \"R\" é o retorno do portfolio, considerando um peso de 10% pra cada uma.\n",
    "peso = (100/len(returns.columns))/100\n",
    "R = returns*peso # É o mesmo que fazer returns * 0.10, no caso de n = 10.\n"
   ]
  },
  {
   "cell_type": "code",
   "execution_count": null,
   "metadata": {
    "scrolled": true
   },
   "outputs": [],
   "source": [
    "# Definindo uma função que nos retorna o montante e retorno de cada período do portfolio.\n",
    "def portfolio(montante, retornos):\n",
    "    Rt = retornos.sum(axis = 1) # Calcula o retorno de cada mês\n",
    "    montante = montante*(1+Rt).cumprod() # Calcula o montante, de acordo com o retorno do mês.\n",
    "    return pd.DataFrame({\n",
    "            'Montante': montante,\n",
    "            'Retornos' : Rt\n",
    "            }, index=returns.index)\n",
    "\n",
    "\n",
    "# Com base num montante de 100(mil) e o retorno R do portfolio, temos:\n",
    "portfolio(100, R)"
   ]
  },
  {
   "cell_type": "code",
   "execution_count": null,
   "metadata": {},
   "outputs": [],
   "source": [
    "# Enquanto isso, o montante e retornos do IBOV são definidos por:\n",
    "dados_ibov = pd.DataFrame({'Montante': 100*(1+returns_ibov).cumprod(),\n",
    "                 \"Retornos\": returns_ibov,\n",
    "                 }, index = returns_ibov.index)\n",
    "\n",
    "\n",
    "dados_ibov"
   ]
  },
  {
   "cell_type": "code",
   "execution_count": null,
   "metadata": {},
   "outputs": [],
   "source": [
    "portfolio(100, R)['Retornos'].plot(title = \"Retornos do portfolio no período\").bar(x = portfolio(100, R)['Retornos'].index, height = portfolio(100, R)['Retornos'])"
   ]
  },
  {
   "cell_type": "code",
   "execution_count": null,
   "metadata": {},
   "outputs": [],
   "source": [
    "dados_ibov['Retornos'].plot(title = \"Retornos do IBOV no período\").bar(x = dados_ibov['Retornos'].index, height = dados_ibov['Retornos'])"
   ]
  },
  {
   "cell_type": "code",
   "execution_count": null,
   "metadata": {},
   "outputs": [],
   "source": [
    "# Retorno acumulado do portfolio durante todo o período, em porcentagem.\n",
    "acumulado = (((portfolio(100, R)['Retornos']+1).prod()-1)*100).round(2)\n",
    "acumulado"
   ]
  },
  {
   "cell_type": "code",
   "execution_count": null,
   "metadata": {},
   "outputs": [],
   "source": [
    "# Retorno acumulado do IBOV durante todo o período, em porcentagem.\n",
    "acumulado_ibov = (((dados_ibov['Retornos']+1).prod()-1)*100).round(2)\n",
    "acumulado_ibov"
   ]
  },
  {
   "cell_type": "markdown",
   "metadata": {},
   "source": [
    "# Drawdown e outras análises"
   ]
  },
  {
   "cell_type": "code",
   "execution_count": null,
   "metadata": {},
   "outputs": [],
   "source": [
    "# Criar uma função que retorne o Wealth Index, Previous Peak e Drawdown de uma série. \n",
    "\n",
    "# Drawdown: Quanto 1000 teria rendido, se investido no período inicial?\n",
    "def drawdown(return_serie: pd.Series):\n",
    "    wealth_index = 1000*(1+return_serie).cumprod()\n",
    "    previous_peak = wealth_index.cummax()\n",
    "    drawdowns = (wealth_index - previous_peak)/previous_peak\n",
    "    return pd.DataFrame({\n",
    "        \"Wealth Index\": wealth_index,\n",
    "        \"Previous Peak\": previous_peak,\n",
    "        \"Drawdown\": drawdowns\n",
    "    })"
   ]
  },
  {
   "cell_type": "code",
   "execution_count": null,
   "metadata": {},
   "outputs": [],
   "source": [
    "#Quando ocorreram os piores resultados do porfólio?\n",
    "portfolio(100,R).idxmin()"
   ]
  },
  {
   "cell_type": "code",
   "execution_count": null,
   "metadata": {},
   "outputs": [],
   "source": [
    "#Quando ocorreram os piores resultados do IBOV?\n",
    "dados_ibov.idxmin()"
   ]
  },
  {
   "cell_type": "code",
   "execution_count": null,
   "metadata": {},
   "outputs": [],
   "source": [
    "drawdown(portfolio(100,R)['Retornos'])[['Previous Peak', 'Wealth Index']].plot(title = 'Evolução do Montante na estratégia com os picos do período', figsize = (10,5))\n",
    "drawdown(dados_ibov['Retornos'])[['Previous Peak', 'Wealth Index']].plot(title = 'Evolução do Montante aplicados no IBOV com os picos do período', figsize = (10,5))"
   ]
  },
  {
   "cell_type": "code",
   "execution_count": null,
   "metadata": {},
   "outputs": [],
   "source": [
    "# Comparação dos Drawdowns do IBOV e do portfolio.\n",
    "drawdown(dados_ibov['Retornos'])['Drawdown'].plot()\n",
    "drawdown(portfolio(100,R)['Retornos'])['Drawdown'].plot(title = 'Drawdowns do IBOV (azul) vs. do Portfolio (laranja)', figsize = (10,5))"
   ]
  },
  {
   "cell_type": "code",
   "execution_count": null,
   "metadata": {},
   "outputs": [],
   "source": [
    "# Comparação do Wealth Index do IBOV e do portfolio.\n",
    "drawdown(dados_ibov['Retornos'])['Wealth Index'].plot()\n",
    "drawdown(portfolio(100,R)['Retornos'])['Wealth Index'].plot(title = 'Wealth Index do IBOV (azul) vs. do Portfolio (laranja)', figsize = (10,5))"
   ]
  },
  {
   "cell_type": "markdown",
   "metadata": {},
   "source": [
    "# Resumo\n"
   ]
  },
  {
   "cell_type": "code",
   "execution_count": null,
   "metadata": {},
   "outputs": [],
   "source": [
    "# Análises do Portfólio\n",
    "std = portfolio(100, R)['Retornos'].std(axis = 0)\n",
    "mean = portfolio(100, R)['Retornos'].mean(axis = 0)\n",
    "\n",
    "# RETORNO SIMPLES ANUALIZADO\n",
    "annualized = (np.sum(R.mean()) * 12)\n",
    "\n",
    "# Variância do Portfolio no período\n",
    "squared_deviations= (portfolio(100,R)['Retornos'] - portfolio(100,R)['Retornos'].mean())**2\n",
    "variance = squared_deviations.sum()/(portfolio(100,R)['Retornos'].shape[0]-1)\n",
    "\n",
    "# Volatilidade do portfólio\n",
    "volatility = np.sqrt(variance)\n",
    "\n",
    "# Volatilidade Anualizada\n",
    "anual_volatility = volatility*np.sqrt(12)\n",
    "\n",
    "# Retornos anualidade\n",
    "anual_ret = (portfolio(100,R)['Retornos'] +1).prod()**(12/portfolio(100,R)['Retornos'].shape[0])-1\n",
    "\n",
    "# Sharpe Ratio\n",
    "sharpe = (anual_ret-0.03)/anual_volatility\n",
    "\n",
    "# Máximo (mínimo) drawdown\n",
    "draw_port = drawdown_port = drawdown(portfolio(100,R)['Retornos'])['Drawdown'].min()"
   ]
  },
  {
   "cell_type": "code",
   "execution_count": null,
   "metadata": {},
   "outputs": [],
   "source": [
    "# Análises do IBOV\n",
    "std_ibov = dados_ibov['Retornos'].std(axis = 0)\n",
    "mean_ibov = dados_ibov['Retornos'].mean(axis = 0)\n",
    "\n",
    "# RETORNO SIMPLES ANUALIZADO\n",
    "ibov_anu = float(np.sum(dados_ibov['Retornos'].mean())*12)\n",
    "\n",
    "# Variância do Portfolio no período\n",
    "squared_deviations_ibov = (dados_ibov['Retornos'] - dados_ibov['Retornos'].mean())**2\n",
    "variance_ibov = squared_deviations_ibov.sum()/(dados_ibov['Retornos'].shape[0]-1)\n",
    "\n",
    "# Volatilidade do portfólio\n",
    "volatility_ibov = np.sqrt(variance_ibov)\n",
    "\n",
    "# Volatilidade Anualizada\n",
    "anual_volatility_ibov = volatility_ibov*np.sqrt(12)\n",
    "\n",
    "# Retornos anualidade\n",
    "anual_ret_ibov = (dados_ibov['Retornos'] +1).prod()**(12/dados_ibov['Retornos'].shape[0])-1\n",
    "\n",
    "# Sharpe Ratio\n",
    "sharpe_ibov = (anual_ret_ibov-0.03)/anual_volatility_ibov\n",
    "\n",
    "# Máximo (mínimo) drawdown \n",
    "draw_ibov = drawdown(dados_ibov['Retornos'])['Drawdown'].min()"
   ]
  },
  {
   "cell_type": "code",
   "execution_count": null,
   "metadata": {},
   "outputs": [],
   "source": [
    "pd.DataFrame({\"IBOV\":(str(acumulado_ibov)+\"%\", str(round(mean_ibov,2)*100)+\"%\", str(round(ibov_anu,2)*100)+\"%\", str(round(volatility_ibov,2)*100)+\"%\", str(round(anual_volatility_ibov,2)*100)+\"%\", str(round(sharpe_ibov,2)*100)+\"%\", str(round(draw_ibov,2)*100)+\"%\", str(round(variance_ibov, 2)*100)),\n",
    "             \"Porfólio\":(str(acumulado)+\"%\", str(round(mean,2)*100)+\"%\", str(round(annualized, 2)*100)+\"%\", str(round(volatility, 2)*100)+\"%\", str(round(anual_volatility,2)*100)+\"%\", str(round(sharpe,2)*100)+\"%\", str(round(draw_port,2)*100)+\"%\", str(round(variance,2)*100)+\"%\")}, index = (\"Retorno Acumulado\", \"Média Retornos\", \"Retorno Anualizado\", \"Volatilidade\", \"Vol. Anualizada\", \"Sharpe Ratio\", \"Max Drawdown\", \"Variância\"))"
   ]
  },
  {
   "cell_type": "code",
   "execution_count": null,
   "metadata": {},
   "outputs": [],
   "source": [
    "# Não consegui :(\n",
    "returns.cov()"
   ]
  }
 ],
 "metadata": {
  "kernelspec": {
   "display_name": "Python 3",
   "language": "python",
   "name": "python3"
  },
  "language_info": {
   "codemirror_mode": {
    "name": "ipython",
    "version": 3
   },
   "file_extension": ".py",
   "mimetype": "text/x-python",
   "name": "python",
   "nbconvert_exporter": "python",
   "pygments_lexer": "ipython3",
   "version": "3.8.3"
  }
 },
 "nbformat": 4,
 "nbformat_minor": 4
}
